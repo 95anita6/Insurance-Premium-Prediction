{
 "cells": [
  {
   "cell_type": "markdown",
   "metadata": {},
   "source": [
    "#### Objective: Predict the premium to be paid by an individual for an health insurance given their details"
   ]
  },
  {
   "cell_type": "code",
   "execution_count": 1,
   "metadata": {},
   "outputs": [],
   "source": [
    "import numpy as np\n",
    "import pandas as pd\n",
    "\n",
    "import warnings\n",
    "warnings.filterwarnings('ignore')\n",
    "\n",
    "import klib"
   ]
  },
  {
   "cell_type": "code",
   "execution_count": 2,
   "metadata": {},
   "outputs": [],
   "source": [
    "# loading dataset:\n",
    "data_file = 'insurance_premium.csv'\n",
    "ip = pd.read_csv(data_file)"
   ]
  },
  {
   "cell_type": "code",
   "execution_count": 3,
   "metadata": {},
   "outputs": [
    {
     "data": {
      "text/plain": [
       "(1337, 7)"
      ]
     },
     "execution_count": 3,
     "metadata": {},
     "output_type": "execute_result"
    }
   ],
   "source": [
    "ip.shape"
   ]
  },
  {
   "cell_type": "code",
   "execution_count": 4,
   "metadata": {},
   "outputs": [
    {
     "data": {
      "text/html": [
       "<div>\n",
       "<style scoped>\n",
       "    .dataframe tbody tr th:only-of-type {\n",
       "        vertical-align: middle;\n",
       "    }\n",
       "\n",
       "    .dataframe tbody tr th {\n",
       "        vertical-align: top;\n",
       "    }\n",
       "\n",
       "    .dataframe thead th {\n",
       "        text-align: right;\n",
       "    }\n",
       "</style>\n",
       "<table border=\"1\" class=\"dataframe\">\n",
       "  <thead>\n",
       "    <tr style=\"text-align: right;\">\n",
       "      <th></th>\n",
       "      <th>age</th>\n",
       "      <th>sex</th>\n",
       "      <th>bmi</th>\n",
       "      <th>children</th>\n",
       "      <th>smoker</th>\n",
       "      <th>region</th>\n",
       "      <th>expenses</th>\n",
       "    </tr>\n",
       "  </thead>\n",
       "  <tbody>\n",
       "    <tr>\n",
       "      <th>0</th>\n",
       "      <td>28</td>\n",
       "      <td>female</td>\n",
       "      <td>25.9</td>\n",
       "      <td>1</td>\n",
       "      <td>no</td>\n",
       "      <td>northwest</td>\n",
       "      <td>4133.64</td>\n",
       "    </tr>\n",
       "    <tr>\n",
       "      <th>1</th>\n",
       "      <td>24</td>\n",
       "      <td>female</td>\n",
       "      <td>20.5</td>\n",
       "      <td>0</td>\n",
       "      <td>yes</td>\n",
       "      <td>northeast</td>\n",
       "      <td>14571.89</td>\n",
       "    </tr>\n",
       "    <tr>\n",
       "      <th>2</th>\n",
       "      <td>61</td>\n",
       "      <td>male</td>\n",
       "      <td>36.1</td>\n",
       "      <td>3</td>\n",
       "      <td>no</td>\n",
       "      <td>southwest</td>\n",
       "      <td>27941.29</td>\n",
       "    </tr>\n",
       "    <tr>\n",
       "      <th>3</th>\n",
       "      <td>21</td>\n",
       "      <td>male</td>\n",
       "      <td>31.1</td>\n",
       "      <td>0</td>\n",
       "      <td>no</td>\n",
       "      <td>southwest</td>\n",
       "      <td>1526.31</td>\n",
       "    </tr>\n",
       "    <tr>\n",
       "      <th>4</th>\n",
       "      <td>33</td>\n",
       "      <td>female</td>\n",
       "      <td>33.5</td>\n",
       "      <td>0</td>\n",
       "      <td>yes</td>\n",
       "      <td>southwest</td>\n",
       "      <td>37079.37</td>\n",
       "    </tr>\n",
       "  </tbody>\n",
       "</table>\n",
       "</div>"
      ],
      "text/plain": [
       "   age     sex   bmi  children smoker     region  expenses\n",
       "0   28  female  25.9         1     no  northwest   4133.64\n",
       "1   24  female  20.5         0    yes  northeast  14571.89\n",
       "2   61    male  36.1         3     no  southwest  27941.29\n",
       "3   21    male  31.1         0     no  southwest   1526.31\n",
       "4   33  female  33.5         0    yes  southwest  37079.37"
      ]
     },
     "execution_count": 4,
     "metadata": {},
     "output_type": "execute_result"
    }
   ],
   "source": [
    "ip.head()"
   ]
  },
  {
   "cell_type": "markdown",
   "metadata": {},
   "source": [
    "Target variable: Expenses"
   ]
  },
  {
   "cell_type": "code",
   "execution_count": 5,
   "metadata": {},
   "outputs": [
    {
     "name": "stdout",
     "output_type": "stream",
     "text": [
      "<class 'pandas.core.frame.DataFrame'>\n",
      "RangeIndex: 1337 entries, 0 to 1336\n",
      "Data columns (total 7 columns):\n",
      " #   Column    Non-Null Count  Dtype   \n",
      "---  ------    --------------  -----   \n",
      " 0   age       1337 non-null   int8    \n",
      " 1   sex       1337 non-null   category\n",
      " 2   bmi       1337 non-null   float32 \n",
      " 3   children  1337 non-null   int8    \n",
      " 4   smoker    1337 non-null   category\n",
      " 5   region    1337 non-null   category\n",
      " 6   expenses  1337 non-null   float32 \n",
      "dtypes: category(3), float32(2), int8(2)\n",
      "memory usage: 17.9 KB\n"
     ]
    }
   ],
   "source": [
    "# Using Kblib convert data types to reduce memory\n",
    "ip = klib.convert_datatypes(ip)\n",
    "ip.info(memory_usage='deep')"
   ]
  },
  {
   "cell_type": "code",
   "execution_count": 6,
   "metadata": {},
   "outputs": [
    {
     "data": {
      "text/plain": [
       "<seaborn.axisgrid.FacetGrid at 0xbbcf3fd7b8>"
      ]
     },
     "execution_count": 6,
     "metadata": {},
     "output_type": "execute_result"
    },
    {
     "data": {
      "image/png": "[encoded data removed]",
      "text/plain": [
       "<Figure size 360x360 with 1 Axes>"
      ]
     },
     "metadata": {},
     "output_type": "display_data"
    }
   ],
   "source": [
    "import matplotlib.pyplot as plt\n",
    "import seaborn as sns\n",
    "%matplotlib inline\n",
    "\n",
    "sns.displot(ip['expenses'])"
   ]
  },
  {
   "cell_type": "markdown",
   "metadata": {},
   "source": [
    "The target variable is positvely skewed"
   ]
  },
  {
   "cell_type": "code",
   "execution_count": 7,
   "metadata": {},
   "outputs": [
    {
     "name": "stdout",
     "output_type": "stream",
     "text": [
      "Skewness of target after log tranformation:  -0.0897386372089386\n",
      "Skewness of target after square root tranformation:  0.7951013445854187\n",
      "Skewness of target after cube root tranformation:  0.5149011015892029\n",
      "Skewness of target after reciprocal tranformation:  1.8808354139328003\n"
     ]
    }
   ],
   "source": [
    "from scipy.stats import skew\n",
    "\n",
    "print('Skewness of target after log tranformation: ', skew(np.log(ip['expenses'])))\n",
    "print('Skewness of target after square root tranformation: ', skew(np.sqrt(ip['expenses'])))\n",
    "print('Skewness of target after cube root tranformation: ', skew(np.cbrt(ip['expenses'])))\n",
    "print('Skewness of target after reciprocal tranformation: ', skew(np.reciprocal(ip['expenses'])))"
   ]
  },
  {
   "cell_type": "markdown",
   "metadata": {},
   "source": [
    "Using log tranformation on the target variable to reduce skewness"
   ]
  },
  {
   "cell_type": "code",
   "execution_count": 8,
   "metadata": {},
   "outputs": [],
   "source": [
    "ip['expenses'] = np.log(ip['expenses'])"
   ]
  },
  {
   "cell_type": "code",
   "execution_count": 9,
   "metadata": {},
   "outputs": [
    {
     "data": {
      "text/html": [
       "<div>\n",
       "<style scoped>\n",
       "    .dataframe tbody tr th:only-of-type {\n",
       "        vertical-align: middle;\n",
       "    }\n",
       "\n",
       "    .dataframe tbody tr th {\n",
       "        vertical-align: top;\n",
       "    }\n",
       "\n",
       "    .dataframe thead th {\n",
       "        text-align: right;\n",
       "    }\n",
       "</style>\n",
       "<table border=\"1\" class=\"dataframe\">\n",
       "  <thead>\n",
       "    <tr style=\"text-align: right;\">\n",
       "      <th></th>\n",
       "      <th>age</th>\n",
       "      <th>sex</th>\n",
       "      <th>bmi</th>\n",
       "      <th>children</th>\n",
       "      <th>smoker</th>\n",
       "      <th>region</th>\n",
       "      <th>expenses</th>\n",
       "    </tr>\n",
       "  </thead>\n",
       "  <tbody>\n",
       "    <tr>\n",
       "      <th>0</th>\n",
       "      <td>28</td>\n",
       "      <td>female</td>\n",
       "      <td>25.900000</td>\n",
       "      <td>1</td>\n",
       "      <td>no</td>\n",
       "      <td>northwest</td>\n",
       "      <td>8.326914</td>\n",
       "    </tr>\n",
       "    <tr>\n",
       "      <th>1</th>\n",
       "      <td>24</td>\n",
       "      <td>female</td>\n",
       "      <td>20.500000</td>\n",
       "      <td>0</td>\n",
       "      <td>yes</td>\n",
       "      <td>northeast</td>\n",
       "      <td>9.586849</td>\n",
       "    </tr>\n",
       "    <tr>\n",
       "      <th>2</th>\n",
       "      <td>61</td>\n",
       "      <td>male</td>\n",
       "      <td>36.099998</td>\n",
       "      <td>3</td>\n",
       "      <td>no</td>\n",
       "      <td>southwest</td>\n",
       "      <td>10.237861</td>\n",
       "    </tr>\n",
       "    <tr>\n",
       "      <th>3</th>\n",
       "      <td>21</td>\n",
       "      <td>male</td>\n",
       "      <td>31.100000</td>\n",
       "      <td>0</td>\n",
       "      <td>no</td>\n",
       "      <td>southwest</td>\n",
       "      <td>7.330608</td>\n",
       "    </tr>\n",
       "    <tr>\n",
       "      <th>4</th>\n",
       "      <td>33</td>\n",
       "      <td>female</td>\n",
       "      <td>33.500000</td>\n",
       "      <td>0</td>\n",
       "      <td>yes</td>\n",
       "      <td>southwest</td>\n",
       "      <td>10.520816</td>\n",
       "    </tr>\n",
       "  </tbody>\n",
       "</table>\n",
       "</div>"
      ],
      "text/plain": [
       "   age     sex        bmi  children smoker     region   expenses\n",
       "0   28  female  25.900000         1     no  northwest   8.326914\n",
       "1   24  female  20.500000         0    yes  northeast   9.586849\n",
       "2   61    male  36.099998         3     no  southwest  10.237861\n",
       "3   21    male  31.100000         0     no  southwest   7.330608\n",
       "4   33  female  33.500000         0    yes  southwest  10.520816"
      ]
     },
     "execution_count": 9,
     "metadata": {},
     "output_type": "execute_result"
    }
   ],
   "source": [
    "ip.head()"
   ]
  },
  {
   "cell_type": "markdown",
   "metadata": {},
   "source": [
    "##### Spliting dataset into train and test"
   ]
  },
  {
   "cell_type": "code",
   "execution_count": 10,
   "metadata": {},
   "outputs": [
    {
     "name": "stdout",
     "output_type": "stream",
     "text": [
      "Shape of train set :  (1069, 7)\n",
      "Shape of test set :  (268, 7)\n"
     ]
    }
   ],
   "source": [
    "from sklearn.model_selection import train_test_split\n",
    "\n",
    "ip_train, ip_test = train_test_split(ip, test_size=0.2, random_state=2)\n",
    "ip_train.reset_index(drop=True, inplace=True)\n",
    "ip_test.reset_index(drop=True, inplace=True)\n",
    "\n",
    "print('Shape of train set : ', ip_train.shape)\n",
    "print('Shape of test set : ', ip_test.shape)"
   ]
  },
  {
   "cell_type": "markdown",
   "metadata": {},
   "source": [
    "##### Feature Engineering"
   ]
  },
  {
   "cell_type": "markdown",
   "metadata": {},
   "source": [
    "Using dummies to convert categorical variable - sex, smoker and region"
   ]
  },
  {
   "cell_type": "code",
   "execution_count": 11,
   "metadata": {},
   "outputs": [],
   "source": [
    "# Converting categorical variable in both train and test\n",
    "for col in ip.select_dtypes('category'):\n",
    "    temp_train = pd.get_dummies(ip_train[col], drop_first=True, prefix=col)\n",
    "    ip_train = pd.concat([ip_train, temp_train], 1)\n",
    "    del ip_train[col]\n",
    "    \n",
    "    temp_test = pd.get_dummies(ip_test[col], drop_first=True, prefix=col)\n",
    "    ip_test = pd.concat([ip_test, temp_test], 1)\n",
    "    del ip_test[col]"
   ]
  },
  {
   "cell_type": "markdown",
   "metadata": {},
   "source": [
    "Outlier treatment in varible 'bmi'"
   ]
  },
  {
   "cell_type": "code",
   "execution_count": 12,
   "metadata": {},
   "outputs": [],
   "source": [
    "# Computing 10th, 90th percentiles and replacing the outliers in train and test datasets\n",
    "\n",
    "#Train\n",
    "tenth_percentile = np.percentile(ip_train['bmi'], 10)\n",
    "ninetieth_percentile = np.percentile(ip_train['bmi'], 90)\n",
    "#print(tenth_percentile, ',', ninetieth_percentile)\n",
    "ip_train['bmi'] = np.where(ip_train['bmi']<tenth_percentile, tenth_percentile, ip_train['bmi'])\n",
    "ip_train['bmi'] = np.where(ip_train['bmi']>ninetieth_percentile, ninetieth_percentile, ip_train['bmi'])\n",
    "\n",
    "#Test\n",
    "tenth_percentile = np.percentile(ip_test['bmi'], 10)\n",
    "ninetieth_percentile = np.percentile(ip_test['bmi'], 90)\n",
    "#print(tenth_percentile, ',', ninetieth_percentile)\n",
    "ip_test['bmi'] = np.where(ip_test['bmi']<tenth_percentile, tenth_percentile, ip_test['bmi'])\n",
    "ip_test['bmi'] = np.where(ip_test['bmi']>ninetieth_percentile, ninetieth_percentile, ip_test['bmi'])"
   ]
  },
  {
   "cell_type": "markdown",
   "metadata": {},
   "source": [
    "##### Spliting into features and target"
   ]
  },
  {
   "cell_type": "code",
   "execution_count": 13,
   "metadata": {},
   "outputs": [],
   "source": [
    "x_train = ip_train.drop('expenses', axis=1)\n",
    "y_train = ip_train['expenses']\n",
    "\n",
    "x_test = ip_test.drop('expenses', axis=1)\n",
    "y_test = ip_test['expenses']"
   ]
  },
  {
   "cell_type": "markdown",
   "metadata": {},
   "source": [
    "##### Training Models"
   ]
  },
  {
   "cell_type": "code",
   "execution_count": 14,
   "metadata": {},
   "outputs": [],
   "source": [
    "# loading necessary libraries\n",
    "\n",
    "from sklearn.linear_model import LinearRegression\n",
    "from sklearn.linear_model import Ridge, Lasso\n",
    "from sklearn.linear_model import SGDRegressor\n",
    "from sklearn.tree import DecisionTreeRegressor\n",
    "from sklearn.ensemble import BaggingRegressor, RandomForestRegressor, ExtraTreesRegressor\n",
    "from sklearn.ensemble import AdaBoostRegressor, GradientBoostingRegressor\n",
    "from xgboost.sklearn import XGBRegressor\n",
    "from sklearn.neighbors import KNeighborsRegressor\n",
    "\n",
    "from sklearn.model_selection import cross_val_score\n",
    "from sklearn.metrics import mean_squared_error"
   ]
  },
  {
   "cell_type": "code",
   "execution_count": 15,
   "metadata": {},
   "outputs": [],
   "source": [
    "models = [LinearRegression(), Ridge(), Lasso(), DecisionTreeRegressor(), BaggingRegressor(), RandomForestRegressor(), \n",
    "          ExtraTreesRegressor(), AdaBoostRegressor(), GradientBoostingRegressor(), XGBRegressor(), KNeighborsRegressor()]\n",
    "\n",
    "names = ['Linear Regression', 'Ridge', 'Lasso', 'DT', 'Bagging', 'RF', 'ExtraTrees', 'AdaBoost', 'GradientBoost', \n",
    "         'XGB', 'KNN']"
   ]
  },
  {
   "cell_type": "code",
   "execution_count": 16,
   "metadata": {},
   "outputs": [
    {
     "name": "stdout",
     "output_type": "stream",
     "text": [
      "Linear Regression\n",
      "Ridge\n",
      "Lasso\n",
      "DT\n",
      "Bagging\n",
      "RF\n",
      "ExtraTrees\n",
      "AdaBoost\n",
      "GradientBoost\n",
      "XGB\n",
      "KNN\n"
     ]
    }
   ],
   "source": [
    "train_score = []\n",
    "test_score = []\n",
    "\n",
    "for model, name in zip(models, names):\n",
    "    print(name)\n",
    "    model.fit(x_train, y_train)\n",
    "    score_train = np.sqrt(mean_squared_error(y_train, model.predict(x_train)))\n",
    "    train_score.append(score_train)\n",
    "    score_test = np.sqrt(mean_squared_error(y_test, model.predict(x_test)))\n",
    "    test_score.append(score_test)"
   ]
  },
  {
   "cell_type": "code",
   "execution_count": 17,
   "metadata": {},
   "outputs": [
    {
     "name": "stdout",
     "output_type": "stream",
     "text": [
      "Linear Regression\n",
      "Ridge\n",
      "Lasso\n",
      "DT\n",
      "Bagging\n",
      "RF\n",
      "ExtraTrees\n",
      "AdaBoost\n",
      "GradientBoost\n",
      "XGB\n",
      "KNN\n"
     ]
    }
   ],
   "source": [
    "cross_validation_score = []\n",
    "\n",
    "for model, name in zip(models, names):\n",
    "    print(name)\n",
    "    score = cross_val_score(model, x_train, y_train, scoring='neg_root_mean_squared_error', cv=10).mean()\n",
    "    cross_validation_score.append(score)"
   ]
  },
  {
   "cell_type": "code",
   "execution_count": 18,
   "metadata": {},
   "outputs": [
    {
     "data": {
      "text/html": [
       "<div>\n",
       "<style scoped>\n",
       "    .dataframe tbody tr th:only-of-type {\n",
       "        vertical-align: middle;\n",
       "    }\n",
       "\n",
       "    .dataframe tbody tr th {\n",
       "        vertical-align: top;\n",
       "    }\n",
       "\n",
       "    .dataframe thead th {\n",
       "        text-align: right;\n",
       "    }\n",
       "</style>\n",
       "<table border=\"1\" class=\"dataframe\">\n",
       "  <thead>\n",
       "    <tr style=\"text-align: right;\">\n",
       "      <th></th>\n",
       "      <th>names</th>\n",
       "      <th>train_score</th>\n",
       "      <th>test_score</th>\n",
       "      <th>cross_validation_score</th>\n",
       "    </tr>\n",
       "  </thead>\n",
       "  <tbody>\n",
       "    <tr>\n",
       "      <th>0</th>\n",
       "      <td>Linear Regression</td>\n",
       "      <td>0.445690</td>\n",
       "      <td>0.431267</td>\n",
       "      <td>-0.445232</td>\n",
       "    </tr>\n",
       "    <tr>\n",
       "      <th>1</th>\n",
       "      <td>Ridge</td>\n",
       "      <td>0.445705</td>\n",
       "      <td>0.431664</td>\n",
       "      <td>-0.445240</td>\n",
       "    </tr>\n",
       "    <tr>\n",
       "      <th>2</th>\n",
       "      <td>Lasso</td>\n",
       "      <td>0.777670</td>\n",
       "      <td>0.799283</td>\n",
       "      <td>-0.776549</td>\n",
       "    </tr>\n",
       "    <tr>\n",
       "      <th>3</th>\n",
       "      <td>DT</td>\n",
       "      <td>0.012602</td>\n",
       "      <td>0.553040</td>\n",
       "      <td>-0.512347</td>\n",
       "    </tr>\n",
       "    <tr>\n",
       "      <th>4</th>\n",
       "      <td>Bagging</td>\n",
       "      <td>0.165245</td>\n",
       "      <td>0.447649</td>\n",
       "      <td>-0.403804</td>\n",
       "    </tr>\n",
       "    <tr>\n",
       "      <th>5</th>\n",
       "      <td>RF</td>\n",
       "      <td>0.144685</td>\n",
       "      <td>0.437224</td>\n",
       "      <td>-0.386057</td>\n",
       "    </tr>\n",
       "    <tr>\n",
       "      <th>6</th>\n",
       "      <td>ExtraTrees</td>\n",
       "      <td>0.012602</td>\n",
       "      <td>0.502388</td>\n",
       "      <td>-0.393976</td>\n",
       "    </tr>\n",
       "    <tr>\n",
       "      <th>7</th>\n",
       "      <td>AdaBoost</td>\n",
       "      <td>0.464388</td>\n",
       "      <td>0.491433</td>\n",
       "      <td>-0.480465</td>\n",
       "    </tr>\n",
       "    <tr>\n",
       "      <th>8</th>\n",
       "      <td>GradientBoost</td>\n",
       "      <td>0.314275</td>\n",
       "      <td>0.376970</td>\n",
       "      <td>-0.363973</td>\n",
       "    </tr>\n",
       "    <tr>\n",
       "      <th>9</th>\n",
       "      <td>XGB</td>\n",
       "      <td>0.060294</td>\n",
       "      <td>0.472379</td>\n",
       "      <td>-0.420194</td>\n",
       "    </tr>\n",
       "    <tr>\n",
       "      <th>10</th>\n",
       "      <td>KNN</td>\n",
       "      <td>0.602001</td>\n",
       "      <td>0.764771</td>\n",
       "      <td>-0.742128</td>\n",
       "    </tr>\n",
       "  </tbody>\n",
       "</table>\n",
       "</div>"
      ],
      "text/plain": [
       "                names  train_score  test_score  cross_validation_score\n",
       "0   Linear Regression     0.445690    0.431267               -0.445232\n",
       "1               Ridge     0.445705    0.431664               -0.445240\n",
       "2               Lasso     0.777670    0.799283               -0.776549\n",
       "3                  DT     0.012602    0.553040               -0.512347\n",
       "4             Bagging     0.165245    0.447649               -0.403804\n",
       "5                  RF     0.144685    0.437224               -0.386057\n",
       "6          ExtraTrees     0.012602    0.502388               -0.393976\n",
       "7            AdaBoost     0.464388    0.491433               -0.480465\n",
       "8       GradientBoost     0.314275    0.376970               -0.363973\n",
       "9                 XGB     0.060294    0.472379               -0.420194\n",
       "10                KNN     0.602001    0.764771               -0.742128"
      ]
     },
     "execution_count": 18,
     "metadata": {},
     "output_type": "execute_result"
    }
   ],
   "source": [
    "scores_df = pd.DataFrame(list(zip(names, train_score, test_score, cross_validation_score)), \n",
    "                         columns=['names', 'train_score', 'test_score', 'cross_validation_score'])\n",
    "scores_df"
   ]
  },
  {
   "cell_type": "markdown",
   "metadata": {},
   "source": [
    "Linear regression, Ridge, Lasso, KNN, AdaBoost models have high bias. DT and XGB models are higly overfitting models for the given data. Bagging and RF models are also overfitting but hypertunning them might improve scores. Gradient Boosting model seems to have low variance and low bias."
   ]
  },
  {
   "cell_type": "markdown",
   "metadata": {},
   "source": [
    "##### Hyper tunning Gradient Boosting, Bagging and RF models"
   ]
  },
  {
   "cell_type": "markdown",
   "metadata": {},
   "source": [
    "###Gradient Boosting Model"
   ]
  },
  {
   "cell_type": "markdown",
   "metadata": {},
   "source": [
    "There 2 types of parameters here-----\n",
    "\n",
    "Boosting specific paramters : n_estimators, learning_rate\n",
    "\n",
    "Tree-specific parameters: min_samples_split, max_depth, min_samples_leaf, max_features"
   ]
  },
  {
   "cell_type": "code",
   "execution_count": 19,
   "metadata": {},
   "outputs": [],
   "source": [
    "from sklearn.model_selection import GridSearchCV, RandomizedSearchCV"
   ]
  },
  {
   "cell_type": "markdown",
   "metadata": {},
   "source": [
    "Using Randomized searchCV to search through all the parameters:"
   ]
  },
  {
   "cell_type": "code",
   "execution_count": 20,
   "metadata": {},
   "outputs": [
    {
     "data": {
      "text/plain": [
       "RandomizedSearchCV(cv=10, estimator=GradientBoostingRegressor(),\n",
       "                   param_distributions={'learning_rate': [0.15, 0.1, 0.05, 0.01,\n",
       "                                                          0.005, 0.001],\n",
       "                                        'max_depth': [2, 3, 4, 5, 6, 7],\n",
       "                                        'max_features': [2, 3, 4, 5],\n",
       "                                        'min_samples_leaf': [1, 3, 5, 7, 9],\n",
       "                                        'min_samples_split': [2, 5, 10, 20, 40,\n",
       "                                                              50, 80],\n",
       "                                        'n_estimators': [100, 200, 500, 700,\n",
       "                                                         1000, 1200]},\n",
       "                   random_state=2, return_train_score=True,\n",
       "                   scoring='neg_root_mean_squared_error')"
      ]
     },
     "execution_count": 20,
     "metadata": {},
     "output_type": "execute_result"
    }
   ],
   "source": [
    "grid_params_gbm  = {'n_estimators' : [100, 200, 500, 700, 1000, 1200],\n",
    "                    'learning_rate' : [0.15,0.1,0.05,0.01,0.005,0.001],\n",
    "                    'max_features':[2,3,4,5],\n",
    "                    'max_depth':[2,3,4,5,6,7],\n",
    "                    'min_samples_split':[2,5,10,20,40,50,80], \n",
    "                    'min_samples_leaf':[1,3,5,7,9]\n",
    "                }\n",
    "\n",
    "random_search = RandomizedSearchCV(GradientBoostingRegressor(), param_distributions=grid_params_gbm,\n",
    "                                   cv=10, scoring='neg_root_mean_squared_error', random_state=2, return_train_score=True)\n",
    "random_search.fit(x_train,y_train)"
   ]
  },
  {
   "cell_type": "code",
   "execution_count": 21,
   "metadata": {},
   "outputs": [
    {
     "data": {
      "text/plain": [
       "({'learning_rate': 0.05,\n",
       "  'max_depth': 3,\n",
       "  'max_features': 4,\n",
       "  'min_samples_leaf': 9,\n",
       "  'min_samples_split': 20,\n",
       "  'n_estimators': 200},\n",
       " -0.3634967849491401,\n",
       " GradientBoostingRegressor(learning_rate=0.05, max_features=4,\n",
       "                           min_samples_leaf=9, min_samples_split=20,\n",
       "                           n_estimators=200))"
      ]
     },
     "execution_count": 21,
     "metadata": {},
     "output_type": "execute_result"
    }
   ],
   "source": [
    "random_search.best_params_, random_search.best_score_, random_search.best_estimator_"
   ]
  },
  {
   "cell_type": "code",
   "execution_count": 22,
   "metadata": {},
   "outputs": [
    {
     "data": {
      "text/html": [
       "<div>\n",
       "<style scoped>\n",
       "    .dataframe tbody tr th:only-of-type {\n",
       "        vertical-align: middle;\n",
       "    }\n",
       "\n",
       "    .dataframe tbody tr th {\n",
       "        vertical-align: top;\n",
       "    }\n",
       "\n",
       "    .dataframe thead th {\n",
       "        text-align: right;\n",
       "    }\n",
       "</style>\n",
       "<table border=\"1\" class=\"dataframe\">\n",
       "  <thead>\n",
       "    <tr style=\"text-align: right;\">\n",
       "      <th></th>\n",
       "      <th>mean_fit_time</th>\n",
       "      <th>std_fit_time</th>\n",
       "      <th>mean_score_time</th>\n",
       "      <th>std_score_time</th>\n",
       "      <th>param_n_estimators</th>\n",
       "      <th>param_min_samples_split</th>\n",
       "      <th>param_min_samples_leaf</th>\n",
       "      <th>param_max_features</th>\n",
       "      <th>param_max_depth</th>\n",
       "      <th>param_learning_rate</th>\n",
       "      <th>...</th>\n",
       "      <th>split2_train_score</th>\n",
       "      <th>split3_train_score</th>\n",
       "      <th>split4_train_score</th>\n",
       "      <th>split5_train_score</th>\n",
       "      <th>split6_train_score</th>\n",
       "      <th>split7_train_score</th>\n",
       "      <th>split8_train_score</th>\n",
       "      <th>split9_train_score</th>\n",
       "      <th>mean_train_score</th>\n",
       "      <th>std_train_score</th>\n",
       "    </tr>\n",
       "  </thead>\n",
       "  <tbody>\n",
       "    <tr>\n",
       "      <th>0</th>\n",
       "      <td>0.748566</td>\n",
       "      <td>0.065321</td>\n",
       "      <td>0.009376</td>\n",
       "      <td>0.007656</td>\n",
       "      <td>500</td>\n",
       "      <td>50</td>\n",
       "      <td>9</td>\n",
       "      <td>2</td>\n",
       "      <td>6</td>\n",
       "      <td>0.005</td>\n",
       "      <td>...</td>\n",
       "      <td>-0.358978</td>\n",
       "      <td>-0.353903</td>\n",
       "      <td>-0.354952</td>\n",
       "      <td>-0.357552</td>\n",
       "      <td>-0.345542</td>\n",
       "      <td>-0.363297</td>\n",
       "      <td>-0.349089</td>\n",
       "      <td>-0.362766</td>\n",
       "      <td>-0.355454</td>\n",
       "      <td>0.006592</td>\n",
       "    </tr>\n",
       "    <tr>\n",
       "      <th>1</th>\n",
       "      <td>0.270326</td>\n",
       "      <td>0.041958</td>\n",
       "      <td>0.003126</td>\n",
       "      <td>0.006251</td>\n",
       "      <td>200</td>\n",
       "      <td>10</td>\n",
       "      <td>3</td>\n",
       "      <td>2</td>\n",
       "      <td>5</td>\n",
       "      <td>0.15</td>\n",
       "      <td>...</td>\n",
       "      <td>-0.178214</td>\n",
       "      <td>-0.170692</td>\n",
       "      <td>-0.172142</td>\n",
       "      <td>-0.166349</td>\n",
       "      <td>-0.160726</td>\n",
       "      <td>-0.175556</td>\n",
       "      <td>-0.171668</td>\n",
       "      <td>-0.176008</td>\n",
       "      <td>-0.172007</td>\n",
       "      <td>0.006417</td>\n",
       "    </tr>\n",
       "    <tr>\n",
       "      <th>2</th>\n",
       "      <td>0.325279</td>\n",
       "      <td>0.047934</td>\n",
       "      <td>0.007251</td>\n",
       "      <td>0.007423</td>\n",
       "      <td>200</td>\n",
       "      <td>2</td>\n",
       "      <td>7</td>\n",
       "      <td>5</td>\n",
       "      <td>3</td>\n",
       "      <td>0.1</td>\n",
       "      <td>...</td>\n",
       "      <td>-0.300654</td>\n",
       "      <td>-0.293152</td>\n",
       "      <td>-0.294458</td>\n",
       "      <td>-0.298033</td>\n",
       "      <td>-0.280316</td>\n",
       "      <td>-0.302506</td>\n",
       "      <td>-0.284850</td>\n",
       "      <td>-0.302566</td>\n",
       "      <td>-0.294853</td>\n",
       "      <td>0.007871</td>\n",
       "    </tr>\n",
       "    <tr>\n",
       "      <th>3</th>\n",
       "      <td>0.564092</td>\n",
       "      <td>0.086565</td>\n",
       "      <td>0.010938</td>\n",
       "      <td>0.007161</td>\n",
       "      <td>500</td>\n",
       "      <td>80</td>\n",
       "      <td>1</td>\n",
       "      <td>2</td>\n",
       "      <td>4</td>\n",
       "      <td>0.05</td>\n",
       "      <td>...</td>\n",
       "      <td>-0.278577</td>\n",
       "      <td>-0.274139</td>\n",
       "      <td>-0.273611</td>\n",
       "      <td>-0.277279</td>\n",
       "      <td>-0.262583</td>\n",
       "      <td>-0.285191</td>\n",
       "      <td>-0.267625</td>\n",
       "      <td>-0.283010</td>\n",
       "      <td>-0.275080</td>\n",
       "      <td>0.007557</td>\n",
       "    </tr>\n",
       "    <tr>\n",
       "      <th>4</th>\n",
       "      <td>1.629690</td>\n",
       "      <td>0.189466</td>\n",
       "      <td>0.014594</td>\n",
       "      <td>0.005402</td>\n",
       "      <td>1000</td>\n",
       "      <td>80</td>\n",
       "      <td>9</td>\n",
       "      <td>3</td>\n",
       "      <td>6</td>\n",
       "      <td>0.01</td>\n",
       "      <td>...</td>\n",
       "      <td>-0.290502</td>\n",
       "      <td>-0.282710</td>\n",
       "      <td>-0.281974</td>\n",
       "      <td>-0.285072</td>\n",
       "      <td>-0.270960</td>\n",
       "      <td>-0.291715</td>\n",
       "      <td>-0.275417</td>\n",
       "      <td>-0.290183</td>\n",
       "      <td>-0.283915</td>\n",
       "      <td>0.007874</td>\n",
       "    </tr>\n",
       "    <tr>\n",
       "      <th>5</th>\n",
       "      <td>0.304903</td>\n",
       "      <td>0.045532</td>\n",
       "      <td>0.008506</td>\n",
       "      <td>0.001205</td>\n",
       "      <td>200</td>\n",
       "      <td>5</td>\n",
       "      <td>3</td>\n",
       "      <td>3</td>\n",
       "      <td>3</td>\n",
       "      <td>0.15</td>\n",
       "      <td>...</td>\n",
       "      <td>-0.293002</td>\n",
       "      <td>-0.278895</td>\n",
       "      <td>-0.279334</td>\n",
       "      <td>-0.283753</td>\n",
       "      <td>-0.269702</td>\n",
       "      <td>-0.288081</td>\n",
       "      <td>-0.271657</td>\n",
       "      <td>-0.286071</td>\n",
       "      <td>-0.282033</td>\n",
       "      <td>0.007709</td>\n",
       "    </tr>\n",
       "    <tr>\n",
       "      <th>6</th>\n",
       "      <td>0.893527</td>\n",
       "      <td>0.146044</td>\n",
       "      <td>0.011731</td>\n",
       "      <td>0.004855</td>\n",
       "      <td>500</td>\n",
       "      <td>80</td>\n",
       "      <td>9</td>\n",
       "      <td>3</td>\n",
       "      <td>7</td>\n",
       "      <td>0.05</td>\n",
       "      <td>...</td>\n",
       "      <td>-0.227808</td>\n",
       "      <td>-0.221999</td>\n",
       "      <td>-0.218762</td>\n",
       "      <td>-0.222646</td>\n",
       "      <td>-0.208527</td>\n",
       "      <td>-0.227935</td>\n",
       "      <td>-0.217919</td>\n",
       "      <td>-0.226191</td>\n",
       "      <td>-0.221601</td>\n",
       "      <td>0.006823</td>\n",
       "    </tr>\n",
       "    <tr>\n",
       "      <th>7</th>\n",
       "      <td>0.373148</td>\n",
       "      <td>0.087374</td>\n",
       "      <td>0.010407</td>\n",
       "      <td>0.003723</td>\n",
       "      <td>200</td>\n",
       "      <td>20</td>\n",
       "      <td>9</td>\n",
       "      <td>4</td>\n",
       "      <td>3</td>\n",
       "      <td>0.05</td>\n",
       "      <td>...</td>\n",
       "      <td>-0.333255</td>\n",
       "      <td>-0.326806</td>\n",
       "      <td>-0.324188</td>\n",
       "      <td>-0.329544</td>\n",
       "      <td>-0.313863</td>\n",
       "      <td>-0.334022</td>\n",
       "      <td>-0.317192</td>\n",
       "      <td>-0.335592</td>\n",
       "      <td>-0.327104</td>\n",
       "      <td>0.007842</td>\n",
       "    </tr>\n",
       "    <tr>\n",
       "      <th>8</th>\n",
       "      <td>1.031640</td>\n",
       "      <td>0.082069</td>\n",
       "      <td>0.009876</td>\n",
       "      <td>0.002967</td>\n",
       "      <td>1000</td>\n",
       "      <td>40</td>\n",
       "      <td>7</td>\n",
       "      <td>2</td>\n",
       "      <td>3</td>\n",
       "      <td>0.005</td>\n",
       "      <td>...</td>\n",
       "      <td>-0.369720</td>\n",
       "      <td>-0.363211</td>\n",
       "      <td>-0.364743</td>\n",
       "      <td>-0.365896</td>\n",
       "      <td>-0.352598</td>\n",
       "      <td>-0.374305</td>\n",
       "      <td>-0.358744</td>\n",
       "      <td>-0.375745</td>\n",
       "      <td>-0.365600</td>\n",
       "      <td>0.007338</td>\n",
       "    </tr>\n",
       "    <tr>\n",
       "      <th>9</th>\n",
       "      <td>0.188626</td>\n",
       "      <td>0.016432</td>\n",
       "      <td>0.005303</td>\n",
       "      <td>0.000640</td>\n",
       "      <td>200</td>\n",
       "      <td>10</td>\n",
       "      <td>1</td>\n",
       "      <td>4</td>\n",
       "      <td>2</td>\n",
       "      <td>0.15</td>\n",
       "      <td>...</td>\n",
       "      <td>-0.343610</td>\n",
       "      <td>-0.333601</td>\n",
       "      <td>-0.330369</td>\n",
       "      <td>-0.332535</td>\n",
       "      <td>-0.320446</td>\n",
       "      <td>-0.342753</td>\n",
       "      <td>-0.325078</td>\n",
       "      <td>-0.343965</td>\n",
       "      <td>-0.333468</td>\n",
       "      <td>0.008390</td>\n",
       "    </tr>\n",
       "  </tbody>\n",
       "</table>\n",
       "<p>10 rows × 36 columns</p>\n",
       "</div>"
      ],
      "text/plain": [
       "   mean_fit_time  std_fit_time  mean_score_time  std_score_time  \\\n",
       "0       0.748566      0.065321         0.009376        0.007656   \n",
       "1       0.270326      0.041958         0.003126        0.006251   \n",
       "2       0.325279      0.047934         0.007251        0.007423   \n",
       "3       0.564092      0.086565         0.010938        0.007161   \n",
       "4       1.629690      0.189466         0.014594        0.005402   \n",
       "5       0.304903      0.045532         0.008506        0.001205   \n",
       "6       0.893527      0.146044         0.011731        0.004855   \n",
       "7       0.373148      0.087374         0.010407        0.003723   \n",
       "8       1.031640      0.082069         0.009876        0.002967   \n",
       "9       0.188626      0.016432         0.005303        0.000640   \n",
       "\n",
       "  param_n_estimators param_min_samples_split param_min_samples_leaf  \\\n",
       "0                500                      50                      9   \n",
       "1                200                      10                      3   \n",
       "2                200                       2                      7   \n",
       "3                500                      80                      1   \n",
       "4               1000                      80                      9   \n",
       "5                200                       5                      3   \n",
       "6                500                      80                      9   \n",
       "7                200                      20                      9   \n",
       "8               1000                      40                      7   \n",
       "9                200                      10                      1   \n",
       "\n",
       "  param_max_features param_max_depth param_learning_rate  ...  \\\n",
       "0                  2               6               0.005  ...   \n",
       "1                  2               5                0.15  ...   \n",
       "2                  5               3                 0.1  ...   \n",
       "3                  2               4                0.05  ...   \n",
       "4                  3               6                0.01  ...   \n",
       "5                  3               3                0.15  ...   \n",
       "6                  3               7                0.05  ...   \n",
       "7                  4               3                0.05  ...   \n",
       "8                  2               3               0.005  ...   \n",
       "9                  4               2                0.15  ...   \n",
       "\n",
       "  split2_train_score  split3_train_score  split4_train_score  \\\n",
       "0          -0.358978           -0.353903           -0.354952   \n",
       "1          -0.178214           -0.170692           -0.172142   \n",
       "2          -0.300654           -0.293152           -0.294458   \n",
       "3          -0.278577           -0.274139           -0.273611   \n",
       "4          -0.290502           -0.282710           -0.281974   \n",
       "5          -0.293002           -0.278895           -0.279334   \n",
       "6          -0.227808           -0.221999           -0.218762   \n",
       "7          -0.333255           -0.326806           -0.324188   \n",
       "8          -0.369720           -0.363211           -0.364743   \n",
       "9          -0.343610           -0.333601           -0.330369   \n",
       "\n",
       "   split5_train_score  split6_train_score  split7_train_score  \\\n",
       "0           -0.357552           -0.345542           -0.363297   \n",
       "1           -0.166349           -0.160726           -0.175556   \n",
       "2           -0.298033           -0.280316           -0.302506   \n",
       "3           -0.277279           -0.262583           -0.285191   \n",
       "4           -0.285072           -0.270960           -0.291715   \n",
       "5           -0.283753           -0.269702           -0.288081   \n",
       "6           -0.222646           -0.208527           -0.227935   \n",
       "7           -0.329544           -0.313863           -0.334022   \n",
       "8           -0.365896           -0.352598           -0.374305   \n",
       "9           -0.332535           -0.320446           -0.342753   \n",
       "\n",
       "   split8_train_score  split9_train_score  mean_train_score  std_train_score  \n",
       "0           -0.349089           -0.362766         -0.355454         0.006592  \n",
       "1           -0.171668           -0.176008         -0.172007         0.006417  \n",
       "2           -0.284850           -0.302566         -0.294853         0.007871  \n",
       "3           -0.267625           -0.283010         -0.275080         0.007557  \n",
       "4           -0.275417           -0.290183         -0.283915         0.007874  \n",
       "5           -0.271657           -0.286071         -0.282033         0.007709  \n",
       "6           -0.217919           -0.226191         -0.221601         0.006823  \n",
       "7           -0.317192           -0.335592         -0.327104         0.007842  \n",
       "8           -0.358744           -0.375745         -0.365600         0.007338  \n",
       "9           -0.325078           -0.343965         -0.333468         0.008390  \n",
       "\n",
       "[10 rows x 36 columns]"
      ]
     },
     "execution_count": 22,
     "metadata": {},
     "output_type": "execute_result"
    }
   ],
   "source": [
    "pd.DataFrame(random_search.cv_results_)"
   ]
  },
  {
   "cell_type": "code",
   "execution_count": 23,
   "metadata": {},
   "outputs": [
    {
     "name": "stdout",
     "output_type": "stream",
     "text": [
      "Train score of GBM tunned model uisng RandomizedSearchCV :  0.3306187667720867\n",
      "Test score of GBM tunned model uisng RandomizedSearchCV :  0.3648439575485909\n"
     ]
    }
   ],
   "source": [
    "gbm_model_random_search = GradientBoostingRegressor(learning_rate=0.05, max_features=4,\n",
    "                           min_samples_leaf=9, min_samples_split=20,\n",
    "                           n_estimators=200, random_state=2)\n",
    "gbm_model_random_search.fit(x_train, y_train)\n",
    "print('Train score of GBM tunned model uisng RandomizedSearchCV : ', np.sqrt(mean_squared_error(y_train, gbm_model_random_search.predict(x_train))))\n",
    "print('Test score of GBM tunned model uisng RandomizedSearchCV : ', np.sqrt(mean_squared_error(y_test, gbm_model_random_search.predict(x_test))))"
   ]
  },
  {
   "cell_type": "markdown",
   "metadata": {},
   "source": [
    "Using Grid Search CV:"
   ]
  },
  {
   "cell_type": "markdown",
   "metadata": {},
   "source": [
    "Tunning n_estimators and learning_rate keeping the default tree specific parameters fixed"
   ]
  },
  {
   "cell_type": "code",
   "execution_count": 24,
   "metadata": {},
   "outputs": [
    {
     "data": {
      "text/plain": [
       "GridSearchCV(cv=10, estimator=GradientBoostingRegressor(),\n",
       "             param_grid={'learning_rate': [0.15, 0.1, 0.05, 0.01, 0.005, 0.001],\n",
       "                         'n_estimators': [100, 200, 500, 700, 1000, 1200]},\n",
       "             scoring='neg_root_mean_squared_error')"
      ]
     },
     "execution_count": 24,
     "metadata": {},
     "output_type": "execute_result"
    }
   ],
   "source": [
    "grid_params_gbm  = {'n_estimators' : [100, 200, 500, 700, 1000, 1200],\n",
    "                    'learning_rate' : [0.15,0.1,0.05,0.01,0.005,0.001]    \n",
    "                }\n",
    "\n",
    "grid_search = GridSearchCV(GradientBoostingRegressor(), \n",
    "                           cv=10,\n",
    "                           param_grid=grid_params_gbm,\n",
    "                           scoring='neg_root_mean_squared_error')\n",
    "\n",
    "grid_search.fit(x_train,y_train)"
   ]
  },
  {
   "cell_type": "code",
   "execution_count": 25,
   "metadata": {},
   "outputs": [
    {
     "data": {
      "text/plain": [
       "({'learning_rate': 0.01, 'n_estimators': 700},\n",
       " -0.3591181720197031,\n",
       " GradientBoostingRegressor(learning_rate=0.01, n_estimators=700))"
      ]
     },
     "execution_count": 25,
     "metadata": {},
     "output_type": "execute_result"
    }
   ],
   "source": [
    "grid_search.best_params_, grid_search.best_score_, grid_search.best_estimator_"
   ]
  },
  {
   "cell_type": "markdown",
   "metadata": {},
   "source": [
    "Tunning min_samples_split, max_depth, min_samples_leaf, max_features keeping the n_estimators and learning_rate obtained from above fixed"
   ]
  },
  {
   "cell_type": "code",
   "execution_count": 28,
   "metadata": {},
   "outputs": [
    {
     "data": {
      "text/plain": [
       "GridSearchCV(cv=10,\n",
       "             estimator=GradientBoostingRegressor(learning_rate=0.01,\n",
       "                                                 n_estimators=700),\n",
       "             param_grid={'max_features': [2, 3, 4]},\n",
       "             scoring='neg_root_mean_squared_error')"
      ]
     },
     "execution_count": 28,
     "metadata": {},
     "output_type": "execute_result"
    }
   ],
   "source": [
    "grid_params_gbm  = {'max_features':[2,3,4]\n",
    "                }\n",
    "\n",
    "grid_search = GridSearchCV(GradientBoostingRegressor(learning_rate=0.01, n_estimators=700), \n",
    "                           cv=10,\n",
    "                           param_grid=grid_params_gbm,\n",
    "                           scoring='neg_root_mean_squared_error')\n",
    "\n",
    "grid_search.fit(x_train,y_train)"
   ]
  },
  {
   "cell_type": "code",
   "execution_count": 29,
   "metadata": {},
   "outputs": [
    {
     "data": {
      "text/plain": [
       "({'max_features': 4},\n",
       " -0.35843137021066934,\n",
       " GradientBoostingRegressor(learning_rate=0.01, max_features=4, n_estimators=700))"
      ]
     },
     "execution_count": 29,
     "metadata": {},
     "output_type": "execute_result"
    }
   ],
   "source": [
    "grid_search.best_params_, grid_search.best_score_, grid_search.best_estimator_"
   ]
  },
  {
   "cell_type": "code",
   "execution_count": 30,
   "metadata": {},
   "outputs": [
    {
     "data": {
      "text/plain": [
       "GridSearchCV(cv=10,\n",
       "             estimator=GradientBoostingRegressor(learning_rate=0.01,\n",
       "                                                 max_features=5,\n",
       "                                                 n_estimators=700),\n",
       "             param_grid={'max_depth': [2, 3, 4, 5, 6, 7],\n",
       "                         'min_samples_leaf': [1, 3, 5, 7, 9],\n",
       "                         'min_samples_split': [2, 5, 10, 20, 40, 50, 80]},\n",
       "             scoring='neg_root_mean_squared_error')"
      ]
     },
     "execution_count": 30,
     "metadata": {},
     "output_type": "execute_result"
    }
   ],
   "source": [
    "grid_params_gbm  = {'max_depth':[2,3,4,5,6,7],\n",
    "                    'min_samples_split':[2,5,10,20,40,50,80], \n",
    "                    'min_samples_leaf':[1,3,5,7,9]\n",
    "                }\n",
    "\n",
    "grid_search = GridSearchCV(GradientBoostingRegressor(learning_rate=0.01, n_estimators=700, max_features=5), \n",
    "                           cv=10,\n",
    "                           param_grid=grid_params_gbm,\n",
    "                           scoring='neg_root_mean_squared_error')\n",
    "\n",
    "grid_search.fit(x_train,y_train)"
   ]
  },
  {
   "cell_type": "code",
   "execution_count": 31,
   "metadata": {},
   "outputs": [
    {
     "data": {
      "text/plain": [
       "({'max_depth': 3, 'min_samples_leaf': 3, 'min_samples_split': 5},\n",
       " -0.35903811308798683,\n",
       " GradientBoostingRegressor(learning_rate=0.01, max_features=5,\n",
       "                           min_samples_leaf=3, min_samples_split=5,\n",
       "                           n_estimators=700))"
      ]
     },
     "execution_count": 31,
     "metadata": {},
     "output_type": "execute_result"
    }
   ],
   "source": [
    "grid_search.best_params_, grid_search.best_score_, grid_search.best_estimator_"
   ]
  },
  {
   "cell_type": "code",
   "execution_count": 32,
   "metadata": {},
   "outputs": [
    {
     "name": "stdout",
     "output_type": "stream",
     "text": [
      "Train score of GBM tunned model uisng GridSearchCV :  0.3354904241281576\n",
      "Test score of GBM tunned model uisng GridSearchCV :  0.36471931086375636\n"
     ]
    }
   ],
   "source": [
    "gbm_model_grid_search = GradientBoostingRegressor(learning_rate=0.01, max_features=4, n_estimators=700, \n",
    "                                                  max_depth=3, min_samples_leaf=3, min_samples_split=5, random_state=2)\n",
    "gbm_model_grid_search.fit(x_train, y_train)\n",
    "print('Train score of GBM tunned model uisng GridSearchCV : ', np.sqrt(mean_squared_error(y_train, gbm_model_grid_search.predict(x_train))))\n",
    "print('Test score of GBM tunned model uisng GridSearchCV : ', np.sqrt(mean_squared_error(y_test, gbm_model_grid_search.predict(x_test))))"
   ]
  },
  {
   "cell_type": "markdown",
   "metadata": {},
   "source": [
    "###Bagging Model"
   ]
  },
  {
   "cell_type": "markdown",
   "metadata": {},
   "source": [
    "There 2 types of parameters here-----\n",
    "\n",
    "Bagged model specific paramters : base_estimator, n_estimators, max_samples\n",
    "\n",
    "Base estimator specific parameters: max_features"
   ]
  },
  {
   "cell_type": "markdown",
   "metadata": {},
   "source": [
    "Kepping the base_estimator as Decision Tree fixed as linear model or KNN model doesnot seem to give good result"
   ]
  },
  {
   "cell_type": "markdown",
   "metadata": {},
   "source": [
    "Using Randomized searchCV to search through n_estimators, max_samples and max_features:"
   ]
  },
  {
   "cell_type": "code",
   "execution_count": 33,
   "metadata": {},
   "outputs": [
    {
     "data": {
      "text/plain": [
       "RandomizedSearchCV(cv=10, estimator=BaggingRegressor(),\n",
       "                   param_distributions={'max_features': [2, 3, 4],\n",
       "                                        'max_samples': [0.05, 0.1, 0.2, 0.3,\n",
       "                                                        0.5, 0.8],\n",
       "                                        'n_estimators': [100, 200, 350, 500,\n",
       "                                                         700, 850, 1000]},\n",
       "                   random_state=2, return_train_score=True,\n",
       "                   scoring='neg_root_mean_squared_error')"
      ]
     },
     "execution_count": 33,
     "metadata": {},
     "output_type": "execute_result"
    }
   ],
   "source": [
    "params_bagged  = {'n_estimators' : [100, 200, 350, 500, 700, 850, 1000],\n",
    "                  'max_samples' : [0.05, 0.1, 0.2, 0.3, 0.5, 0.8],\n",
    "                  'max_features' : [2,3,4]\n",
    "                }\n",
    "random_search = RandomizedSearchCV(BaggingRegressor(), param_distributions=params_bagged,\n",
    "                                   cv=10, scoring='neg_root_mean_squared_error', random_state=2, return_train_score=True)\n",
    "random_search.fit(x_train,y_train)"
   ]
  },
  {
   "cell_type": "code",
   "execution_count": 34,
   "metadata": {},
   "outputs": [
    {
     "data": {
      "text/plain": [
       "({'max_features': 4, 'max_samples': 0.3, 'n_estimators': 1000},\n",
       " -0.5793120587431801,\n",
       " BaggingRegressor(max_features=4, max_samples=0.3, n_estimators=1000))"
      ]
     },
     "execution_count": 34,
     "metadata": {},
     "output_type": "execute_result"
    }
   ],
   "source": [
    "random_search.best_params_, random_search.best_score_, random_search.best_estimator_"
   ]
  },
  {
   "cell_type": "code",
   "execution_count": 39,
   "metadata": {},
   "outputs": [
    {
     "name": "stdout",
     "output_type": "stream",
     "text": [
      "Train score of bagged model uisng RandomizedSearchCV :  0.49237916342899496\n",
      "Test score of bagged model uisng RandomizedSearchCV :  0.5700836683104283\n"
     ]
    }
   ],
   "source": [
    "bagged_random_search = BaggingRegressor(max_features=4, n_estimators=1000, max_samples=0.3, random_state=2)\n",
    "bagged_random_search.fit(x_train, y_train)\n",
    "print('Train score of bagged model uisng RandomizedSearchCV : ', np.sqrt(mean_squared_error(y_train, bagged_random_search.predict(x_train))))\n",
    "print('Test score of bagged model uisng RandomizedSearchCV : ', np.sqrt(mean_squared_error(y_test, bagged_random_search.predict(x_test))))"
   ]
  },
  {
   "cell_type": "markdown",
   "metadata": {},
   "source": [
    "Using Grid searchCV to search through n_estimators, max_samples and max_features:"
   ]
  },
  {
   "cell_type": "code",
   "execution_count": 36,
   "metadata": {},
   "outputs": [
    {
     "data": {
      "text/plain": [
       "GridSearchCV(cv=10, estimator=BaggingRegressor(),\n",
       "             param_grid={'max_features': [2, 3, 4],\n",
       "                         'max_samples': [0.05, 0.1, 0.2, 0.3, 0.5, 0.8],\n",
       "                         'n_estimators': [100, 200, 350, 500, 700, 850, 1000]},\n",
       "             scoring='neg_root_mean_squared_error')"
      ]
     },
     "execution_count": 36,
     "metadata": {},
     "output_type": "execute_result"
    }
   ],
   "source": [
    "params_bagged  = {'n_estimators' : [100, 200, 350, 500, 700, 850, 1000],\n",
    "                  'max_samples' : [0.05, 0.1, 0.2, 0.3, 0.5, 0.8],\n",
    "                  'max_features' : [2,3,4]\n",
    "                }\n",
    "grid_search = GridSearchCV(BaggingRegressor(), \n",
    "                           cv=10,\n",
    "                           param_grid=params_bagged,\n",
    "                           scoring='neg_root_mean_squared_error')\n",
    "grid_search.fit(x_train,y_train)"
   ]
  },
  {
   "cell_type": "code",
   "execution_count": 37,
   "metadata": {},
   "outputs": [
    {
     "data": {
      "text/plain": [
       "({'max_features': 4, 'max_samples': 0.5, 'n_estimators': 200},\n",
       " -0.5689610943037595,\n",
       " BaggingRegressor(max_features=4, max_samples=0.5, n_estimators=200))"
      ]
     },
     "execution_count": 37,
     "metadata": {},
     "output_type": "execute_result"
    }
   ],
   "source": [
    "grid_search.best_params_, grid_search.best_score_, grid_search.best_estimator_"
   ]
  },
  {
   "cell_type": "code",
   "execution_count": 38,
   "metadata": {},
   "outputs": [
    {
     "name": "stdout",
     "output_type": "stream",
     "text": [
      "Train score of bagged model using GridSearchCV :  0.4505025237060744\n",
      "Test score of bagged model using GridSearchCV :  0.5689732133225062\n"
     ]
    }
   ],
   "source": [
    "bagged_grid_search = BaggingRegressor(max_features=4, n_estimators=200, max_samples=0.5, random_state=2)\n",
    "bagged_grid_search.fit(x_train, y_train)\n",
    "print('Train score of bagged model using GridSearchCV : ', np.sqrt(mean_squared_error(y_train, bagged_grid_search.predict(x_train))))\n",
    "print('Test score of bagged model using GridSearchCV : ', np.sqrt(mean_squared_error(y_test, bagged_grid_search.predict(x_test))))"
   ]
  },
  {
   "cell_type": "markdown",
   "metadata": {},
   "source": [
    "####Random Forest Model"
   ]
  },
  {
   "cell_type": "markdown",
   "metadata": {},
   "source": [
    "Parameters to tune for Random forest model : n_estimators, max_depth, min_samples_split, min_samples_leaf, max_features, min_impurity_decrease, max_samples"
   ]
  },
  {
   "cell_type": "markdown",
   "metadata": {},
   "source": [
    "Using Randomized SearchCV to search through all the values for the parameters:"
   ]
  },
  {
   "cell_type": "code",
   "execution_count": 42,
   "metadata": {},
   "outputs": [
    {
     "data": {
      "text/plain": [
       "RandomizedSearchCV(cv=10, estimator=RandomForestRegressor(),\n",
       "                   param_distributions={'max_depth': [3, 4, 5, 6, 7, 8],\n",
       "                                        'max_features': [2, 3, 4],\n",
       "                                        'max_samples': [0.01, 0.1, 0.2, 0.4,\n",
       "                                                        0.5, 0.8],\n",
       "                                        'n_estimators': [100, 200, 350, 500,\n",
       "                                                         700, 850, 1000]},\n",
       "                   random_state=2, return_train_score=True,\n",
       "                   scoring='neg_root_mean_squared_error')"
      ]
     },
     "execution_count": 42,
     "metadata": {},
     "output_type": "execute_result"
    }
   ],
   "source": [
    "params_rf = {'n_estimators' : [100, 200, 350, 500, 700, 850, 1000],\n",
    "             'max_depth' : [3,4,5,6,7,8],\n",
    "             'max_features' : [2,3,4],\n",
    "             'max_samples' : [0.01, 0.1, 0.2, 0.4, 0.5, 0.8]    \n",
    "            }\n",
    "\n",
    "random_search = RandomizedSearchCV(RandomForestRegressor(), param_distributions=params_rf,\n",
    "                                   cv=10, scoring='neg_root_mean_squared_error', random_state=2, return_train_score=True)\n",
    "random_search.fit(x_train,y_train)"
   ]
  },
  {
   "cell_type": "code",
   "execution_count": 43,
   "metadata": {},
   "outputs": [
    {
     "data": {
      "text/plain": [
       "({'max_depth': 6, 'max_features': 4, 'max_samples': 0.8, 'n_estimators': 850},\n",
       " -0.36699884224274626,\n",
       " RandomForestRegressor(max_depth=6, max_features=4, max_samples=0.8,\n",
       "                       n_estimators=850))"
      ]
     },
     "execution_count": 43,
     "metadata": {},
     "output_type": "execute_result"
    }
   ],
   "source": [
    "random_search.best_params_, random_search.best_score_, random_search.best_estimator_"
   ]
  },
  {
   "cell_type": "code",
   "execution_count": 45,
   "metadata": {},
   "outputs": [
    {
     "name": "stdout",
     "output_type": "stream",
     "text": [
      "Train score of rf model uisng RandomizedSearchCV :  0.3281507829003378\n",
      "Test score of rf model uisng RandomizedSearchCV :  0.37378294420611907\n"
     ]
    }
   ],
   "source": [
    "rf_random_search = RandomForestRegressor(n_estimators=850, max_depth=6, max_features=4, max_samples=0.8, random_state=2)\n",
    "rf_random_search.fit(x_train, y_train)\n",
    "print('Train score of rf model uisng RandomizedSearchCV : ', np.sqrt(mean_squared_error(y_train, rf_random_search.predict(x_train))))\n",
    "print('Test score of rf model uisng RandomizedSearchCV : ', np.sqrt(mean_squared_error(y_test, rf_random_search.predict(x_test))))"
   ]
  },
  {
   "cell_type": "markdown",
   "metadata": {},
   "source": [
    "Using Grid Search CV"
   ]
  },
  {
   "cell_type": "markdown",
   "metadata": {},
   "source": [
    "Tuning n_estimators keeping tree specific default parameters fixed:"
   ]
  },
  {
   "cell_type": "code",
   "execution_count": 46,
   "metadata": {},
   "outputs": [
    {
     "data": {
      "text/plain": [
       "GridSearchCV(cv=10, estimator=RandomForestRegressor(),\n",
       "             param_grid={'n_estimators': [100, 200, 350, 500, 700, 850, 1000]},\n",
       "             scoring='neg_root_mean_squared_error')"
      ]
     },
     "execution_count": 46,
     "metadata": {},
     "output_type": "execute_result"
    }
   ],
   "source": [
    "params_rf = {'n_estimators' : [100, 200, 350, 500, 700, 850, 1000]}\n",
    "\n",
    "grid_search = GridSearchCV(RandomForestRegressor(), \n",
    "                           cv=10,\n",
    "                           param_grid=params_rf,\n",
    "                           scoring='neg_root_mean_squared_error')\n",
    "grid_search.fit(x_train,y_train)"
   ]
  },
  {
   "cell_type": "code",
   "execution_count": 47,
   "metadata": {},
   "outputs": [
    {
     "data": {
      "text/plain": [
       "({'n_estimators': 500},\n",
       " -0.3833848669376855,\n",
       " RandomForestRegressor(n_estimators=500))"
      ]
     },
     "execution_count": 47,
     "metadata": {},
     "output_type": "execute_result"
    }
   ],
   "source": [
    "grid_search.best_params_, grid_search.best_score_, grid_search.best_estimator_"
   ]
  },
  {
   "cell_type": "code",
   "execution_count": 48,
   "metadata": {},
   "outputs": [
    {
     "data": {
      "text/plain": [
       "GridSearchCV(cv=10, estimator=RandomForestRegressor(n_estimators=500),\n",
       "             param_grid={'max_depth': [3, 4, 5, 6, 7, 8],\n",
       "                         'max_features': [2, 3, 4],\n",
       "                         'max_samples': [0.01, 0.1, 0.2, 0.4, 0.5, 0.8]},\n",
       "             scoring='neg_root_mean_squared_error')"
      ]
     },
     "execution_count": 48,
     "metadata": {},
     "output_type": "execute_result"
    }
   ],
   "source": [
    "params_rf = {'max_depth' : [3,4,5,6,7,8],\n",
    "             'max_features' : [2,3,4],\n",
    "             'max_samples' : [0.01, 0.1, 0.2, 0.4, 0.5, 0.8] \n",
    "    }\n",
    "\n",
    "grid_search = GridSearchCV(RandomForestRegressor(n_estimators=500), \n",
    "                           cv=10,\n",
    "                           param_grid=params_rf,\n",
    "                           scoring='neg_root_mean_squared_error')\n",
    "grid_search.fit(x_train,y_train)"
   ]
  },
  {
   "cell_type": "code",
   "execution_count": 49,
   "metadata": {},
   "outputs": [
    {
     "data": {
      "text/plain": [
       "({'max_depth': 7, 'max_features': 4, 'max_samples': 0.8},\n",
       " -0.3627449641301904,\n",
       " RandomForestRegressor(max_depth=7, max_features=4, max_samples=0.8,\n",
       "                       n_estimators=500))"
      ]
     },
     "execution_count": 49,
     "metadata": {},
     "output_type": "execute_result"
    }
   ],
   "source": [
    "grid_search.best_params_, grid_search.best_score_, grid_search.best_estimator_"
   ]
  },
  {
   "cell_type": "code",
   "execution_count": 50,
   "metadata": {},
   "outputs": [
    {
     "name": "stdout",
     "output_type": "stream",
     "text": [
      "Train score of rf model uisng GridSearchCV :  0.2978143594066878\n",
      "Test score of rf model uisng GridSearchCV :  0.3799528635423457\n"
     ]
    }
   ],
   "source": [
    "rf_grid_search = RandomForestRegressor(n_estimators=500, max_depth=7, max_features=4, max_samples=0.8, random_state=2)\n",
    "rf_grid_search.fit(x_train, y_train)\n",
    "print('Train score of rf model uisng GridSearchCV : ', np.sqrt(mean_squared_error(y_train, rf_grid_search.predict(x_train))))\n",
    "print('Test score of rf model uisng GridSearchCV : ', np.sqrt(mean_squared_error(y_test, rf_grid_search.predict(x_test))))"
   ]
  },
  {
   "cell_type": "markdown",
   "metadata": {},
   "source": [
    "Final model : GBM model after tuning using GridSearchCV"
   ]
  },
  {
   "cell_type": "code",
   "execution_count": 51,
   "metadata": {},
   "outputs": [
    {
     "data": {
      "text/plain": [
       "GradientBoostingRegressor(learning_rate=0.01, max_features=4,\n",
       "                          min_samples_leaf=3, min_samples_split=5,\n",
       "                          n_estimators=700, random_state=2)"
      ]
     },
     "execution_count": 51,
     "metadata": {},
     "output_type": "execute_result"
    }
   ],
   "source": [
    "insurance_premium_pred_model = GradientBoostingRegressor(learning_rate=0.01, max_features=4, n_estimators=700, \n",
    "                                                  max_depth=3, min_samples_leaf=3, min_samples_split=5, random_state=2)\n",
    "insurance_premium_pred_model.fit(x_train,y_train)"
   ]
  },
  {
   "cell_type": "code",
   "execution_count": null,
   "metadata": {},
   "outputs": [],
   "source": []
  }
 ],
 "metadata": {
  "kernelspec": {
   "display_name": "Python 3",
   "language": "python",
   "name": "python3"
  },
  "language_info": {
   "codemirror_mode": {
    "name": "ipython",
    "version": 3
   },
   "file_extension": ".py",
   "mimetype": "text/x-python",
   "name": "python",
   "nbconvert_exporter": "python",
   "pygments_lexer": "ipython3",
   "version": "3.6.4"
  }
 },
 "nbformat": 4,
 "nbformat_minor": 2
}
