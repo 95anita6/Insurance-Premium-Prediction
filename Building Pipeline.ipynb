{
 "cells": [
  {
   "cell_type": "markdown",
   "metadata": {},
   "source": [
    "### Building pipleline to deploy premium prediction model"
   ]
  },
  {
   "cell_type": "code",
   "execution_count": 1,
   "metadata": {},
   "outputs": [],
   "source": [
    "import numpy as np\n",
    "import pandas as pd\n",
    "import klib\n",
    "\n",
    "import warnings\n",
    "warnings.filterwarnings('ignore')\n",
    "\n",
    "from sklearn.model_selection import train_test_split\n",
    "from sklearn.ensemble import GradientBoostingRegressor\n",
    "\n",
    "from sklearn.model_selection import cross_val_score\n",
    "from sklearn.metrics import mean_squared_error\n",
    "\n",
    "from sklearn.base import BaseEstimator, TransformerMixin\n",
    "from sklearn.compose import ColumnTransformer \n",
    "from sklearn.pipeline import Pipeline,FeatureUnion"
   ]
  },
  {
   "cell_type": "code",
   "execution_count": 2,
   "metadata": {},
   "outputs": [
    {
     "name": "stdout",
     "output_type": "stream",
     "text": [
      "<class 'pandas.core.frame.DataFrame'>\n",
      "RangeIndex: 1337 entries, 0 to 1336\n",
      "Data columns (total 7 columns):\n",
      " #   Column    Non-Null Count  Dtype   \n",
      "---  ------    --------------  -----   \n",
      " 0   age       1337 non-null   int8    \n",
      " 1   sex       1337 non-null   category\n",
      " 2   bmi       1337 non-null   float32 \n",
      " 3   children  1337 non-null   int8    \n",
      " 4   smoker    1337 non-null   category\n",
      " 5   region    1337 non-null   category\n",
      " 6   expenses  1337 non-null   float32 \n",
      "dtypes: category(3), float32(2), int8(2)\n",
      "memory usage: 17.9 KB\n"
     ]
    }
   ],
   "source": [
    "# loading dataset:\n",
    "data_file = 'insurance_premium.csv'\n",
    "ip = pd.read_csv(data_file)\n",
    "\n",
    "# Using Kblib conver data types reduces memory\n",
    "ip = klib.convert_datatypes(ip)\n",
    "ip.info(memory_usage='deep')"
   ]
  },
  {
   "cell_type": "code",
   "execution_count": 3,
   "metadata": {},
   "outputs": [
    {
     "name": "stdout",
     "output_type": "stream",
     "text": [
      "(1069, 7)\n",
      "(268, 7)\n"
     ]
    }
   ],
   "source": [
    "ip_train, ip_test = train_test_split(ip, test_size=0.2, random_state=2)\n",
    "print(ip_train.shape)\n",
    "print(ip_test.shape)"
   ]
  },
  {
   "cell_type": "code",
   "execution_count": 4,
   "metadata": {},
   "outputs": [],
   "source": [
    "# Taking log of the target variable:\n",
    "x_train = ip_train.drop('expenses', axis=1)\n",
    "y_train = np.log(ip_train['expenses'])\n",
    "\n",
    "x_test = ip_test.drop('expenses', axis=1)\n",
    "y_test = np.log(ip_test['expenses'])"
   ]
  },
  {
   "cell_type": "markdown",
   "metadata": {},
   "source": [
    "Defining get_dummies custom transformer"
   ]
  },
  {
   "cell_type": "code",
   "execution_count": 5,
   "metadata": {},
   "outputs": [],
   "source": [
    "class get_dummies(BaseEstimator, TransformerMixin):\n",
    "    \n",
    "    def __init__(self,cols):\n",
    "        self.cols=cols\n",
    "        \n",
    "    def fit(self,x,y=None):\n",
    "        return self\n",
    "            \n",
    "    def transform(self, X):\n",
    "#        print('In tranform from get_dummies')\n",
    "        for col in self.cols:\n",
    "#            print(col)\n",
    "            temp_dummies = pd.get_dummies(X[col], drop_first=True, prefix=col)\n",
    "            X = pd.concat([X, temp_dummies], axis=1)\n",
    "            del X[col]\n",
    "#        print(X.head(2))\n",
    "        return X"
   ]
  },
  {
   "cell_type": "code",
   "execution_count": 6,
   "metadata": {},
   "outputs": [],
   "source": [
    "class outlier_treatment(BaseEstimator, TransformerMixin):\n",
    "    \n",
    "    def __init__(self,cols):\n",
    "        self.cols=cols\n",
    "        \n",
    "    def fit(self,x,y=None):\n",
    "        return self\n",
    "            \n",
    "    def transform(self,X):\n",
    "#        print('In transform from outlier_treatment')\n",
    "        for col in self.cols:\n",
    "#            print(col)\n",
    "            tenth_percentile = np.percentile(X[col], 10)\n",
    "            ninetieth_percentile = np.percentile(X[col], 90)\n",
    "            X[col] = np.where(X[col]<tenth_percentile, tenth_percentile, X[col])\n",
    "            X[col] = np.where(X[col]>ninetieth_percentile, ninetieth_percentile, X[col])\n",
    "#        print(X.head(2))    \n",
    "        return X"
   ]
  },
  {
   "cell_type": "code",
   "execution_count": 7,
   "metadata": {},
   "outputs": [],
   "source": [
    "# Final model obtained after training and hyper tuning parameters:\n",
    "prediction_model = GradientBoostingRegressor(learning_rate=0.01, max_features=4, n_estimators=700, \n",
    "                                                  max_depth=3, min_samples_leaf=3, min_samples_split=5, random_state=2)"
   ]
  },
  {
   "cell_type": "code",
   "execution_count": 8,
   "metadata": {},
   "outputs": [],
   "source": [
    "pre_process = Pipeline([('cat_var_encode',get_dummies(['sex', 'smoker', 'region'])),\n",
    "                        ('outlier_treatment',outlier_treatment(['bmi']))\n",
    "                       ])"
   ]
  },
  {
   "cell_type": "code",
   "execution_count": 9,
   "metadata": {},
   "outputs": [],
   "source": [
    "model_pipeline=Pipeline([\n",
    "                        ('data_prep', pre_process),\n",
    "                        ('model', prediction_model)\n",
    "                        ])"
   ]
  },
  {
   "cell_type": "code",
   "execution_count": 10,
   "metadata": {},
   "outputs": [
    {
     "data": {
      "text/plain": [
       "Pipeline(steps=[('data_prep',\n",
       "                 Pipeline(steps=[('cat_var_encode',\n",
       "                                  get_dummies(cols=['sex', 'smoker',\n",
       "                                                    'region'])),\n",
       "                                 ('outlier_treatment',\n",
       "                                  outlier_treatment(cols=['bmi']))])),\n",
       "                ('model',\n",
       "                 GradientBoostingRegressor(learning_rate=0.01, max_features=4,\n",
       "                                           min_samples_leaf=3,\n",
       "                                           min_samples_split=5,\n",
       "                                           n_estimators=700, random_state=2))])"
      ]
     },
     "execution_count": 10,
     "metadata": {},
     "output_type": "execute_result"
    }
   ],
   "source": [
    "model_pipeline.fit(x_train, y_train)"
   ]
  },
  {
   "cell_type": "code",
   "execution_count": 11,
   "metadata": {},
   "outputs": [
    {
     "name": "stdout",
     "output_type": "stream",
     "text": [
      "Cross validation score :  -0.36008679624594386\n"
     ]
    }
   ],
   "source": [
    "print('Cross validation score : ', cross_val_score(model_pipeline, x_train, y_train, scoring='neg_root_mean_squared_error', cv=10).mean())"
   ]
  },
  {
   "cell_type": "code",
   "execution_count": 12,
   "metadata": {},
   "outputs": [
    {
     "name": "stdout",
     "output_type": "stream",
     "text": [
      "Train score :  0.3354904241281576\n",
      "Test score :  0.36471931086375636\n"
     ]
    }
   ],
   "source": [
    "print('Train score : ', np.sqrt(mean_squared_error(y_train, model_pipeline.predict(x_train))))\n",
    "print('Test score : ', np.sqrt(mean_squared_error(y_test, model_pipeline.predict(x_test))))"
   ]
  },
  {
   "cell_type": "markdown",
   "metadata": {},
   "source": [
    "##### Saving model to pickle file"
   ]
  },
  {
   "cell_type": "code",
   "execution_count": 13,
   "metadata": {},
   "outputs": [
    {
     "data": {
      "text/plain": [
       "['insurance_premium_perdiction.pkl']"
      ]
     },
     "execution_count": 13,
     "metadata": {},
     "output_type": "execute_result"
    }
   ],
   "source": [
    "import sklearn.externals \n",
    "import joblib\n",
    "\n",
    "joblib.dump(model_pipeline,'insurance_premium_perdiction.pkl')"
   ]
  },
  {
   "cell_type": "code",
   "execution_count": null,
   "metadata": {},
   "outputs": [],
   "source": []
  }
 ],
 "metadata": {
  "kernelspec": {
   "display_name": "Python 3",
   "language": "python",
   "name": "python3"
  },
  "language_info": {
   "codemirror_mode": {
    "name": "ipython",
    "version": 3
   },
   "file_extension": ".py",
   "mimetype": "text/x-python",
   "name": "python",
   "nbconvert_exporter": "python",
   "pygments_lexer": "ipython3",
   "version": "3.6.4"
  }
 },
 "nbformat": 4,
 "nbformat_minor": 2
}
